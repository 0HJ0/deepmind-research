{
  "nbformat": 4,
  "nbformat_minor": 0,
  "metadata": {
    "colab": {
      "name": "enformer-example.ipynb",
      "provenance": [],
      "collapsed_sections": []
    },
    "kernelspec": {
      "name": "python3",
      "display_name": "Python 3"
    },
    "accelerator": "GPU"
  },
  "cells": [
    {
      "cell_type": "markdown",
      "metadata": {
        "id": "rb_ShvB9E8yM"
      },
      "source": [
        "Copyright 2021 DeepMind Technologies Limited\n",
        "\n",
        "Licensed under the Apache License, Version 2.0 (the \"License\");\n",
        "you may not use this file except in compliance with the License.\n",
        "You may obtain a copy of the License at\n",
        "\n",
        "     https://www.apache.org/licenses/LICENSE-2.0\n",
        "\n",
        "Unless required by applicable law or agreed to in writing, software\n",
        "distributed under the License is distributed on an \"AS IS\" BASIS,\n",
        "WITHOUT WARRANTIES OR CONDITIONS OF ANY KIND, either express or implied.\n",
        "See the License for the specific language governing permissions and\n",
        "limitations under the License."
      ]
    },
    {
      "cell_type": "markdown",
      "metadata": {
        "id": "kXQjDxgdwUmW"
      },
      "source": [
        "This colab showcases the usage of the Enformer model published in\n",
        "\n",
        "**\"Effective gene expression prediction from sequence by integrating long-range interactions\"**\n",
        "\n",
        "Žiga Avsec1*, Vikram Agarwal2,4, Daniel Visentin1,4, Joseph R. Ledsam1,3, Agnieszka Grabska-Barwinska1, Kyle R. Taylor1, Yannis Assael1, John Jumper1, Pushmeet Kohli1*, David R. Kelley2*\n",
        "\n",
        "- 1 DeepMind, London, UK\n",
        "- 2 Calico Life Sciences, South San Francisco, CA, USA\n",
        "- 3 Google, Tokyo, Japan\n",
        "- 4 These authors contributed equally.\n",
        "- `*` correspondence: avsec@google.com, pushmeet@google.com, drk@calicolabs.com\n"
      ]
    },
    {
      "cell_type": "markdown",
      "metadata": {
        "id": "tFnAHhx-ze9X"
      },
      "source": [
        "**Note:** This colab will not yet work since the model isn't yet publicly available. We are working on enabling this and will update the colab accordingly."
      ]
    },
    {
      "cell_type": "markdown",
      "metadata": {
        "id": "si-w2NPretDg"
      },
      "source": [
        "### Steps\n",
        "\n",
        "This colab demonstrates how to\n",
        "- Make predictions with Enformer and reproduce Fig. 1d\n",
        "- Compute contribution scores and reproduce parts of Fig. 2a\n",
        "- Predict the effect of a genetic variant and reproduce parts of Fig. 3g\n",
        "- Score multiple variants in a VCF "
      ]
    },
    {
      "cell_type": "markdown",
      "metadata": {
        "id": "wCCJsjaHwTYC"
      },
      "source": [
        "## Setup"
      ]
    },
    {
      "cell_type": "markdown",
      "metadata": {
        "id": "NqR7ol3rxrtM"
      },
      "source": [
        "**Start the colab kernel with GPU**: Runtime -> Change runtime type -> GPU"
      ]
    },
    {
      "cell_type": "code",
      "metadata": {
        "id": "hTGOLrbZxNHK"
      },
      "source": [
        "import tensorflow as tf\n",
        "# Make sure the GPU is enabled \n",
        "assert tf.config.list_physical_devices('GPU'), 'Start the colab kernel with GPU: Runtime -> Change runtime type -> GPU'"
      ],
      "execution_count": null,
      "outputs": []
    },
    {
      "cell_type": "code",
      "metadata": {
        "id": "Eg8hcb45wqMM"
      },
      "source": [
        "!pip install kipoiseq --quiet > /dev/null"
      ],
      "execution_count": null,
      "outputs": []
    },
    {
      "cell_type": "markdown",
      "metadata": {
        "id": "MCDk7UQPG0Lr"
      },
      "source": [
        "### Imports"
      ]
    },
    {
      "cell_type": "code",
      "metadata": {
        "id": "NRI9KisU11bM"
      },
      "source": [
        "import joblib\n",
        "import gzip\n",
        "import kipoiseq\n",
        "from kipoiseq import Interval\n",
        "import pyfaidx\n",
        "import pandas as pd\n",
        "import numpy as np\n",
        "import matplotlib.pyplot as plt\n",
        "import matplotlib as mpl\n",
        "import seaborn as sns\n",
        "\n",
        "%matplotlib inline\n",
        "%config InlineBackend.figure_format = 'retina'"
      ],
      "execution_count": null,
      "outputs": []
    },
    {
      "cell_type": "code",
      "metadata": {
        "id": "g0F1A9AaCrkQ"
      },
      "source": [
        "transform_base_path = 'dna_transformer_2020_1kG_SAD.robustscaler-PCA500-robustscaler.transform.pkl'\n",
        "model_base_path = '13376309-3.finetuned'\n",
        "\n",
        "transform_path = f'/root/models/{transform_base_path}'\n",
        "model_path = f'/root/models/{model_base_path}'\n",
        "fasta_file = '/root/data/genome.fa'\n",
        "\n",
        "# Download targets from Basenji2 dataset \n",
        "# Cite: Kelley et al Cross-species regulatory sequence activity prediction. PLoS Comput. Biol. 16, e1008050 (2020).\n",
        "targets_txt = 'https://raw.githubusercontent.com/calico/basenji/master/manuscripts/cross2020/targets_human.txt'\n",
        "clinvar_vcf = '/root/data/clinvar.vcf.gz'"
      ],
      "execution_count": null,
      "outputs": []
    },
    {
      "cell_type": "code",
      "metadata": {
        "colab": {
          "base_uri": "https://localhost:8080/",
          "height": 142
        },
        "id": "OlE6JAVfI08a",
        "executionInfo": {
          "status": "ok",
          "timestamp": 1610491573962,
          "user_tz": -60,
          "elapsed": 835,
          "user": {
            "displayName": "Žiga Avsec",
            "photoUrl": "https://lh3.googleusercontent.com/a-/AOh14GjeqpTSqpdiH6-w18IlBq5jUYLVI3qWge6m6wC5=s64",
            "userId": "06962645976249714923"
          }
        },
        "outputId": "65dae93c-91a9-4f89-e8ad-4189a8b71ab7"
      },
      "source": [
        "df_targets = pd.read_csv(targets_txt, sep='\\t')\n",
        "df_targets.head(3)"
      ],
      "execution_count": null,
      "outputs": [
        {
          "output_type": "execute_result",
          "data": {
            "text/html": [
              "<div>\n",
              "<style scoped>\n",
              "    .dataframe tbody tr th:only-of-type {\n",
              "        vertical-align: middle;\n",
              "    }\n",
              "\n",
              "    .dataframe tbody tr th {\n",
              "        vertical-align: top;\n",
              "    }\n",
              "\n",
              "    .dataframe thead th {\n",
              "        text-align: right;\n",
              "    }\n",
              "</style>\n",
              "<table border=\"1\" class=\"dataframe\">\n",
              "  <thead>\n",
              "    <tr style=\"text-align: right;\">\n",
              "      <th></th>\n",
              "      <th>index</th>\n",
              "      <th>genome</th>\n",
              "      <th>identifier</th>\n",
              "      <th>file</th>\n",
              "      <th>clip</th>\n",
              "      <th>scale</th>\n",
              "      <th>sum_stat</th>\n",
              "      <th>description</th>\n",
              "    </tr>\n",
              "  </thead>\n",
              "  <tbody>\n",
              "    <tr>\n",
              "      <th>0</th>\n",
              "      <td>0</td>\n",
              "      <td>0</td>\n",
              "      <td>ENCFF833POA</td>\n",
              "      <td>/home/drk/tillage/datasets/human/dnase/encode/...</td>\n",
              "      <td>32</td>\n",
              "      <td>2</td>\n",
              "      <td>mean</td>\n",
              "      <td>DNASE:cerebellum male adult (27 years) and mal...</td>\n",
              "    </tr>\n",
              "    <tr>\n",
              "      <th>1</th>\n",
              "      <td>1</td>\n",
              "      <td>0</td>\n",
              "      <td>ENCFF110QGM</td>\n",
              "      <td>/home/drk/tillage/datasets/human/dnase/encode/...</td>\n",
              "      <td>32</td>\n",
              "      <td>2</td>\n",
              "      <td>mean</td>\n",
              "      <td>DNASE:frontal cortex male adult (27 years) and...</td>\n",
              "    </tr>\n",
              "    <tr>\n",
              "      <th>2</th>\n",
              "      <td>2</td>\n",
              "      <td>0</td>\n",
              "      <td>ENCFF880MKD</td>\n",
              "      <td>/home/drk/tillage/datasets/human/dnase/encode/...</td>\n",
              "      <td>32</td>\n",
              "      <td>2</td>\n",
              "      <td>mean</td>\n",
              "      <td>DNASE:chorion</td>\n",
              "    </tr>\n",
              "  </tbody>\n",
              "</table>\n",
              "</div>"
            ],
            "text/plain": [
              "   index  genome  ... sum_stat                                        description\n",
              "0      0       0  ...     mean  DNASE:cerebellum male adult (27 years) and mal...\n",
              "1      1       0  ...     mean  DNASE:frontal cortex male adult (27 years) and...\n",
              "2      2       0  ...     mean                                      DNASE:chorion\n",
              "\n",
              "[3 rows x 8 columns]"
            ]
          },
          "metadata": {
            "tags": []
          },
          "execution_count": 5
        }
      ]
    },
    {
      "cell_type": "markdown",
      "metadata": {
        "id": "Q8ZhswycGux3"
      },
      "source": [
        "### Download files"
      ]
    },
    {
      "cell_type": "code",
      "metadata": {
        "id": "_o7RuTMi1kYI",
        "colab": {
          "base_uri": "https://localhost:8080/"
        },
        "executionInfo": {
          "status": "ok",
          "timestamp": 1610491604608,
          "user_tz": -60,
          "elapsed": 32,
          "user": {
            "displayName": "Žiga Avsec",
            "photoUrl": "https://lh3.googleusercontent.com/a-/AOh14GjeqpTSqpdiH6-w18IlBq5jUYLVI3qWge6m6wC5=s64",
            "userId": "06962645976249714923"
          }
        },
        "outputId": "cba1dab0-ba63-47d3-cd31-d30acbb2170a"
      },
      "source": [
        "# Mount google drive. Models will be made available through https://www.tensorflow.org/hub\n",
        "# and https://storage.googleapis.com/deepmind-enformer soon.\n",
        "import os.path\n",
        "from google.colab import drive\n",
        "drive.mount('/gdrive')"
      ],
      "execution_count": null,
      "outputs": [
        {
          "output_type": "stream",
          "text": [
            "Mounted at /gdrive\n"
          ],
          "name": "stdout"
        }
      ]
    },
    {
      "cell_type": "code",
      "metadata": {
        "id": "rPk4M0jBCI-k"
      },
      "source": [
        "# Download models\n",
        "!mkdir -p /root/models/\n",
        "models_dir = '/gdrive/My\\ Drive/models/'\n",
        "!cp -R {models_dir}/{transform_base_path} /root/models/\n",
        "!cp -R {models_dir}/{model_base_path} /root/models/"
      ],
      "execution_count": null,
      "outputs": []
    },
    {
      "cell_type": "markdown",
      "metadata": {
        "id": "dowTJknFJOHu"
      },
      "source": [
        "Download and index the reference genome fasta file\n",
        "\n",
        "Credit to Genome Reference Consortium: https://www.ncbi.nlm.nih.gov/grc\n",
        "\n",
        "Schneider et al 2017 http://dx.doi.org/10.1101/gr.213611.116: Evaluation of GRCh38 and de novo haploid genome assemblies demonstrates the enduring quality of the reference assembly"
      ]
    },
    {
      "cell_type": "code",
      "metadata": {
        "colab": {
          "base_uri": "https://localhost:8080/"
        },
        "id": "flOUYxP7Fjvh",
        "executionInfo": {
          "status": "ok",
          "timestamp": 1610491763552,
          "user_tz": -60,
          "elapsed": 164448,
          "user": {
            "displayName": "Žiga Avsec",
            "photoUrl": "https://lh3.googleusercontent.com/a-/AOh14GjeqpTSqpdiH6-w18IlBq5jUYLVI3qWge6m6wC5=s64",
            "userId": "06962645976249714923"
          }
        },
        "outputId": "5afcc88a-cf39-4142-e5df-f577a5d6bdd8"
      },
      "source": [
        "\n",
        "!mkdir -p /root/data\n",
        "!wget -O - http://hgdownload.cse.ucsc.edu/goldenPath/hg38/bigZips/hg38.fa.gz | gunzip -c > {fasta_file}\n",
        "pyfaidx.Faidx(fasta_file)\n",
        "!ls /root/data"
      ],
      "execution_count": null,
      "outputs": [
        {
          "output_type": "stream",
          "text": [
            "--2021-01-12 22:47:12--  http://hgdownload.cse.ucsc.edu/goldenPath/hg38/bigZips/hg38.fa.gz\n",
            "Resolving hgdownload.cse.ucsc.edu (hgdownload.cse.ucsc.edu)... 128.114.119.163\n",
            "Connecting to hgdownload.cse.ucsc.edu (hgdownload.cse.ucsc.edu)|128.114.119.163|:80... connected.\n",
            "HTTP request sent, awaiting response... 200 OK\n",
            "Length: 983659424 (938M) [application/x-gzip]\n",
            "Saving to: ‘STDOUT’\n",
            "\n",
            "-                   100%[===================>] 938.09M  10.4MB/s    in 79s     \n",
            "\n",
            "2021-01-12 22:48:31 (11.9 MB/s) - written to stdout [983659424/983659424]\n",
            "\n",
            "genome.fa  genome.fa.fai\n"
          ],
          "name": "stdout"
        }
      ]
    },
    {
      "cell_type": "markdown",
      "metadata": {
        "id": "VwMZhF42JH18"
      },
      "source": [
        "Download the clinvar file. Reference:\n",
        "\n",
        "Landrum MJ, Lee JM, Benson M, Brown GR, Chao C, Chitipiralla S, Gu B, Hart J, Hoffman D, Jang W, Karapetyan K, Katz K, Liu C, Maddipatla Z, Malheiro A, McDaniel K, Ovetsky M, Riley G, Zhou G, Holmes JB, Kattman BL, Maglott DR. ClinVar: improving access to variant interpretations and supporting evidence. Nucleic Acids Res . 2018 Jan 4. PubMed PMID: 29165669 .\n"
      ]
    },
    {
      "cell_type": "code",
      "metadata": {
        "colab": {
          "base_uri": "https://localhost:8080/"
        },
        "id": "4PjXFN5OcGbH",
        "executionInfo": {
          "status": "ok",
          "timestamp": 1610491766389,
          "user_tz": -60,
          "elapsed": 167174,
          "user": {
            "displayName": "Žiga Avsec",
            "photoUrl": "https://lh3.googleusercontent.com/a-/AOh14GjeqpTSqpdiH6-w18IlBq5jUYLVI3qWge6m6wC5=s64",
            "userId": "06962645976249714923"
          }
        },
        "outputId": "dd1dafe7-426b-4e73-9c9b-3f2ab6cc7aa6"
      },
      "source": [
        "!wget https://ftp.ncbi.nlm.nih.gov/pub/clinvar/vcf_GRCh38/clinvar.vcf.gz -O /root/data/clinvar.vcf.gz"
      ],
      "execution_count": null,
      "outputs": [
        {
          "output_type": "stream",
          "text": [
            "--2021-01-12 22:49:23--  https://ftp.ncbi.nlm.nih.gov/pub/clinvar/vcf_GRCh38/clinvar.vcf.gz\n",
            "Resolving ftp.ncbi.nlm.nih.gov (ftp.ncbi.nlm.nih.gov)... 130.14.250.7, 2607:f220:41e:250::10, 2607:f220:41e:250::11, ...\n",
            "Connecting to ftp.ncbi.nlm.nih.gov (ftp.ncbi.nlm.nih.gov)|130.14.250.7|:443... connected.\n",
            "HTTP request sent, awaiting response... 200 OK\n",
            "Length: 34090716 (33M) [application/x-gzip]\n",
            "Saving to: ‘/root/data/clinvar.vcf.gz’\n",
            "\n",
            "/root/data/clinvar. 100%[===================>]  32.51M  16.1MB/s    in 2.0s    \n",
            "\n",
            "2021-01-12 22:49:25 (16.1 MB/s) - ‘/root/data/clinvar.vcf.gz’ saved [34090716/34090716]\n",
            "\n"
          ],
          "name": "stdout"
        }
      ]
    },
    {
      "cell_type": "markdown",
      "metadata": {
        "id": "Omj-KERcwSdB"
      },
      "source": [
        "### Code (double click on the title to show the code)"
      ]
    },
    {
      "cell_type": "code",
      "metadata": {
        "cellView": "form",
        "id": "47E4AEgLx1VT"
      },
      "source": [
        "# @title `Enformer`, `EnformerScoreVariantsNormalized`, `EnformerScoreVariantsPCANormalized`,\n",
        "SEQUENCE_LENGTH = 393216\n",
        "\n",
        "class Enformer:\n",
        "\n",
        "  def __init__(self, saved_model_path):\n",
        "    self._model = tf.saved_model.load(saved_model_path).model\n",
        "\n",
        "  def predict_on_batch(self, inputs):\n",
        "    predictions = self._model.predict_on_batch(inputs)\n",
        "    return {k: v.numpy() for k, v in predictions.items()}\n",
        "\n",
        "  @tf.function\n",
        "  def contribution_input_grad(self, input_sequence,\n",
        "                              target_mask, output_head='human'):\n",
        "    input_sequence = input_sequence[tf.newaxis]\n",
        "\n",
        "    target_mask_mass = tf.reduce_sum(target_mask)\n",
        "    with tf.GradientTape() as tape:\n",
        "      tape.watch(input_sequence)\n",
        "      prediction = tf.reduce_sum(\n",
        "          target_mask[tf.newaxis] *\n",
        "          self._model.predict_on_batch(input_sequence)[output_head]) / target_mask_mass\n",
        "\n",
        "    input_grad = tape.gradient(prediction, input_sequence) * input_sequence\n",
        "    input_grad = tf.squeeze(input_grad, axis=0)\n",
        "    return tf.reduce_sum(input_grad, axis=-1)\n",
        "\n",
        "\n",
        "class EnformerScoreVariantsRaw:\n",
        "\n",
        "  def __init__(self, saved_model_path, organism='human'):\n",
        "    self._model = Enformer(saved_model_path)\n",
        "    self._organism = organism\n",
        "  \n",
        "  def predict_on_batch(self, inputs):\n",
        "    ref_prediction = self._model.predict_on_batch(inputs['ref'])[self._organism]\n",
        "    alt_prediction = self._model.predict_on_batch(inputs['alt'])[self._organism]\n",
        "\n",
        "    return alt_prediction.mean(axis=1) - ref_prediction.mean(axis=1)\n",
        "\n",
        "\n",
        "class EnformerScoreVariantsNormalized:\n",
        "\n",
        "  def __init__(self, saved_model_path, transform_pkl_path,\n",
        "               organism='human'):\n",
        "    assert organism == 'human', 'Transforms only compatible with organism=human'\n",
        "    self._model = EnformerScoreVariantsRaw(saved_model_path, organism)\n",
        "    transform_pipeline = joblib.load(transform_pkl_path)\n",
        "    self._transform = transform_pipeline.steps[0][1]  # StandardScaler.\n",
        "    \n",
        "  def predict_on_batch(self, inputs):\n",
        "    scores = self._model.predict_on_batch(inputs)\n",
        "    return self._transform.transform(scores)\n",
        "\n",
        "\n",
        "class EnformerScoreVariantsPCANormalized:\n",
        "\n",
        "  def __init__(self, saved_model_path, transform_pkl_path,\n",
        "               organism='human', num_top_features=500):\n",
        "    self._model = EnformerScoreVariantsRaw(saved_model_path, organism)\n",
        "    self._transform = joblib.load(transform_pkl_path)\n",
        "    self._num_top_features = num_top_features\n",
        "    \n",
        "  def predict_on_batch(self, inputs):\n",
        "    scores = self._model.predict_on_batch(inputs)\n",
        "    return self._transform.transform(scores)[:, :self._num_top_features]\n",
        "\n",
        "\n",
        "# TODO(avsec): Add feature description: Either PCX, or full names."
      ],
      "execution_count": null,
      "outputs": []
    },
    {
      "cell_type": "code",
      "metadata": {
        "cellView": "form",
        "id": "uLYRbOXDyA36"
      },
      "source": [
        "# @title `variant_centered_sequences`\n",
        "\n",
        "class FastaStringExtractor:\n",
        "    \n",
        "    def __init__(self, fasta_file):\n",
        "        self.fasta = pyfaidx.Fasta(fasta_file)\n",
        "        self._chromosome_sizes = {k: len(v) for k, v in self.fasta.items()}\n",
        "\n",
        "    def extract(self, interval: Interval, **kwargs) -> str:\n",
        "        # Truncate interval if it extends beyond the chromosome lengths.\n",
        "        chromosome_length = self._chromosome_sizes[interval.chrom]\n",
        "        trimmed_interval = Interval(interval.chrom,\n",
        "                                    max(interval.start, 0),\n",
        "                                    min(interval.end, chromosome_length),\n",
        "                                    )\n",
        "        # pyfaidx wants a 1-based interval\n",
        "        sequence = str(self.fasta.get_seq(trimmed_interval.chrom,\n",
        "                                          trimmed_interval.start + 1,\n",
        "                                          trimmed_interval.stop).seq).upper()\n",
        "        # Fill truncated values with N's.\n",
        "        pad_upstream = 'N' * max(-interval.start, 0)\n",
        "        pad_downstream = 'N' * max(interval.end - chromosome_length, 0)\n",
        "        return pad_upstream + sequence + pad_downstream\n",
        "\n",
        "    def close(self):\n",
        "        return self.fasta.close()\n",
        "\n",
        "\n",
        "def variant_generator(vcf_file, gzipped=False):\n",
        "  \"\"\"Yields a kipoiseq.dataclasses.Variant for each row in VCF file.\"\"\"\n",
        "  def _open(file):\n",
        "    return gzip.open(vcf_file, 'rt') if gzipped else open(vcf_file)\n",
        "    \n",
        "  with _open(vcf_file) as f:\n",
        "    for line in f:\n",
        "      if line.startswith('#'):\n",
        "        continue\n",
        "      chrom, pos, id, ref, alt_list = line.split('\\t')[:5]\n",
        "      # Split ALT alleles and return individual variants as output.\n",
        "      for alt in alt_list.split(','):\n",
        "        yield kipoiseq.dataclasses.Variant(chrom=chrom, pos=pos,\n",
        "                                           ref=ref, alt=alt, id=id)\n",
        "\n",
        "\n",
        "def one_hot_encode(sequence):\n",
        "  return kipoiseq.transforms.functional.one_hot_dna(sequence).astype(np.float32)\n",
        "\n",
        "\n",
        "def variant_centered_sequences(vcf_file, sequence_length, gzipped=False,\n",
        "                               chr_prefix=''):\n",
        "  seq_extractor = kipoiseq.extractors.VariantSeqExtractor(\n",
        "    reference_sequence=FastaStringExtractor(fasta_file))\n",
        "\n",
        "  for variant in variant_generator(vcf_file, gzipped=gzipped):\n",
        "    interval = Interval(chr_prefix + variant.chrom,\n",
        "                        variant.pos, variant.pos)\n",
        "    interval = interval.resize(sequence_length)\n",
        "    center = interval.center() - interval.start\n",
        "\n",
        "    reference = seq_extractor.extract(interval, [], anchor=center)\n",
        "    alternate = seq_extractor.extract(interval, [variant], anchor=center)\n",
        "\n",
        "    yield {'inputs': {'ref': one_hot_encode(reference),\n",
        "                      'alt': one_hot_encode(alternate)},\n",
        "           'metadata': {'chrom': chr_prefix + variant.chrom,\n",
        "                        'pos': variant.pos,\n",
        "                        'id': variant.id,\n",
        "                        'ref': variant.ref,\n",
        "                        'alt': variant.alt}}"
      ],
      "execution_count": null,
      "outputs": []
    },
    {
      "cell_type": "code",
      "metadata": {
        "cellView": "form",
        "id": "Up1oCMFiPucp"
      },
      "source": [
        "# @title `plot_tracks`\n",
        "\n",
        "def plot_tracks(tracks, interval, height=1.5):\n",
        "  fig, axes = plt.subplots(len(tracks), 1, figsize=(20, height * len(tracks)), sharex=True)\n",
        "  for ax, (title, y) in zip(axes, tracks.items()):\n",
        "    ax.fill_between(np.linspace(interval.start, interval.end, num=len(y)), y)\n",
        "    ax.set_title(title)\n",
        "    sns.despine(top=True, right=True, bottom=True)\n",
        "  ax.set_xlabel(str(interval))\n",
        "  plt.tight_layout()"
      ],
      "execution_count": null,
      "outputs": []
    },
    {
      "cell_type": "markdown",
      "metadata": {
        "id": "zEwfoz3cwOzt"
      },
      "source": [
        "## Make predictions for a genetic sequenece"
      ]
    },
    {
      "cell_type": "code",
      "metadata": {
        "id": "WC-pgC35DgnL"
      },
      "source": [
        "model = Enformer(model_path)\n",
        "\n",
        "fasta_extractor = FastaStringExtractor(fasta_file)"
      ],
      "execution_count": null,
      "outputs": []
    },
    {
      "cell_type": "code",
      "metadata": {
        "id": "8u8Gt8WWyG53"
      },
      "source": [
        "# @title Make predictions for an genomic example interval\n",
        "target_interval = kipoiseq.Interval('chr11', 35_082_742, 35_197_430)  # @param\n",
        "\n",
        "sequence_one_hot = one_hot_encode(fasta_extractor.extract(target_interval.resize(SEQUENCE_LENGTH)))\n",
        "predictions = model.predict_on_batch(sequence_one_hot[np.newaxis])['human'][0]"
      ],
      "execution_count": null,
      "outputs": []
    },
    {
      "cell_type": "code",
      "metadata": {
        "colab": {
          "base_uri": "https://localhost:8080/",
          "height": 441
        },
        "id": "x7RrBbPFJdf8",
        "executionInfo": {
          "status": "ok",
          "timestamp": 1610403486072,
          "user_tz": -60,
          "elapsed": 29386,
          "user": {
            "displayName": "Žiga Avsec",
            "photoUrl": "https://lh3.googleusercontent.com/a-/AOh14GjeqpTSqpdiH6-w18IlBq5jUYLVI3qWge6m6wC5=s64",
            "userId": "06962645976249714923"
          }
        },
        "outputId": "c25e94f8-ee03-4b4d-8f3e-b9610a0f4527"
      },
      "source": [
        "# @title Plot tracks\n",
        "tracks = {'DNASE:CD14-positive monocyte female': predictions[:, 41],\n",
        "          'DNASE:keratinocyte female': predictions[:, 42],\n",
        "          'CHIP:H3K27ac:keratinocyte female': predictions[:, 706],\n",
        "          'CAGE:Keratinocyte - epidermal': np.log10(1 + predictions[:, 4799])}\n",
        "plot_tracks(tracks, target_interval)"
      ],
      "execution_count": null,
      "outputs": [
        {
          "output_type": "display_data",
          "data": {
            "image/png": "[encoded data removed]",
            "text/plain": [
              "<Figure size 1440x432 with 4 Axes>"
            ]
          },
          "metadata": {
            "tags": [],
            "needs_background": "light"
          }
        }
      ]
    },
    {
      "cell_type": "markdown",
      "metadata": {
        "id": "gM2KwV8gwMNj"
      },
      "source": [
        "## Contribution scores example"
      ]
    },
    {
      "cell_type": "code",
      "metadata": {
        "id": "o4c2W_MjNBzp"
      },
      "source": [
        "# @title Compute contribution scores\n",
        "target_interval = kipoiseq.Interval('chr12', 54_223_589, 54_338_277)  # @param\n",
        "\n",
        "sequence_one_hot = one_hot_encode(fasta_extractor.extract(target_interval.resize(SEQUENCE_LENGTH)))\n",
        "predictions = model.predict_on_batch(sequence_one_hot[np.newaxis])['human'][0]\n",
        "\n",
        "target_mask = np.zeros_like(predictions)\n",
        "for idx in [447, 448, 449]:\n",
        "  target_mask[idx, 4828] = 1\n",
        "  target_mask[idx, 5111] = 1\n",
        "# This will take some time since tf.function needs to get compiled.\n",
        "contribution_scores = model.contribution_input_grad(sequence_one_hot.astype(np.float32), target_mask).numpy()\n",
        "pooled_contribution_scores = tf.nn.avg_pool1d(np.abs(contribution_scores)[np.newaxis, :, np.newaxis], 128, 128, 'VALID')[0, :, 0].numpy()[1088:-1088]"
      ],
      "execution_count": null,
      "outputs": []
    },
    {
      "cell_type": "code",
      "metadata": {
        "colab": {
          "base_uri": "https://localhost:8080/",
          "height": 225
        },
        "id": "nzHZiE40Wnyk",
        "executionInfo": {
          "status": "ok",
          "timestamp": 1610403508617,
          "user_tz": -60,
          "elapsed": 51920,
          "user": {
            "displayName": "Žiga Avsec",
            "photoUrl": "https://lh3.googleusercontent.com/a-/AOh14GjeqpTSqpdiH6-w18IlBq5jUYLVI3qWge6m6wC5=s64",
            "userId": "06962645976249714923"
          }
        },
        "outputId": "68439c7d-1e26-417f-b6f2-a858e3c9fece"
      },
      "source": [
        "tracks = {'CAGE predictions': predictions[:, 4828],\n",
        "          'Enformer gradient*input': np.minimum(pooled_contribution_scores, 0.03)}\n",
        "plot_tracks(tracks, target_interval);"
      ],
      "execution_count": null,
      "outputs": [
        {
          "output_type": "display_data",
          "data": {
            "image/png": "[encoded data removed]",
            "text/plain": [
              "<Figure size 1440x216 with 2 Axes>"
            ]
          },
          "metadata": {
            "tags": [],
            "needs_background": "light"
          }
        }
      ]
    },
    {
      "cell_type": "markdown",
      "metadata": {
        "id": "iiDN_ScSv3sI"
      },
      "source": [
        "## Variant scoring example"
      ]
    },
    {
      "cell_type": "code",
      "metadata": {
        "id": "hIaN9GKDVwLK"
      },
      "source": [
        "# @title Score the variant\n",
        "variant = kipoiseq.Variant('chr16', 57025062, 'C', 'T', id='rs11644125')  # @param\n",
        "\n",
        "# Center the interval at the variant\n",
        "interval = kipoiseq.Interval(variant.chrom, variant.start, variant.start).resize(SEQUENCE_LENGTH)\n",
        "seq_extractor = kipoiseq.extractors.VariantSeqExtractor(reference_sequence=fasta_extractor)\n",
        "center = interval.center() - interval.start\n",
        "\n",
        "reference = seq_extractor.extract(interval, [], anchor=center)\n",
        "alternate = seq_extractor.extract(interval, [variant], anchor=center)\n",
        "\n",
        "# Make predictions for the refernece and alternate allele\n",
        "reference_prediction = model.predict_on_batch(one_hot_encode(reference)[np.newaxis])['human'][0]\n",
        "alternate_prediction = model.predict_on_batch(one_hot_encode(alternate)[np.newaxis])['human'][0]"
      ],
      "execution_count": null,
      "outputs": []
    },
    {
      "cell_type": "code",
      "metadata": {
        "colab": {
          "base_uri": "https://localhost:8080/",
          "height": 368
        },
        "id": "Bczbku-FUoGr",
        "executionInfo": {
          "status": "ok",
          "timestamp": 1610491873418,
          "user_tz": -60,
          "elapsed": 1993,
          "user": {
            "displayName": "Žiga Avsec",
            "photoUrl": "https://lh3.googleusercontent.com/a-/AOh14GjeqpTSqpdiH6-w18IlBq5jUYLVI3qWge6m6wC5=s64",
            "userId": "06962645976249714923"
          }
        },
        "outputId": "95294fac-824d-4a82-864d-2b246b7d7973"
      },
      "source": [
        "# @title Visualize some tracks\n",
        "variant_track = np.zeros_like(reference_prediction[:, 0], dtype=bool)\n",
        "variant_track[variant_track.shape[0] // 2] = True\n",
        "tracks = {'variant': variant_track,\n",
        "          'CAGE/neutrofils ref': reference_prediction[:, 4767],\n",
        "          'CAGE/neutrofils alt-ref': alternate_prediction[:, 4767] - reference_prediction[:, 4767],\n",
        "          'CHIP:H3K27ac:neutrophil ref': reference_prediction[:, 2280],\n",
        "          'CHIP:H3K27ac:neutrophil alt-ref': alternate_prediction[:, 2280] - reference_prediction[:, 2280],\n",
        "          }\n",
        "\n",
        "plot_tracks(tracks, interval.resize(reference_prediction.shape[0] * 128), height=1)"
      ],
      "execution_count": null,
      "outputs": [
        {
          "output_type": "display_data",
          "data": {
            "image/png": "[encoded data removed]",
            "text/plain": [
              "<Figure size 1440x360 with 5 Axes>"
            ]
          },
          "metadata": {
            "tags": [],
            "image/png": {
              "width": 1436,
              "height": 351
            },
            "needs_background": "light"
          }
        }
      ]
    },
    {
      "cell_type": "markdown",
      "metadata": {
        "id": "ZMCU9woQv6Ea"
      },
      "source": [
        "## Score variants in a VCF file"
      ]
    },
    {
      "cell_type": "markdown",
      "metadata": {
        "id": "c1nJwFS-4P8g"
      },
      "source": [
        "### Report top 20 PCs"
      ]
    },
    {
      "cell_type": "code",
      "metadata": {
        "id": "-vmj1MA3chRQ"
      },
      "source": [
        "enformer_score_variants = EnformerScoreVariantsPCANormalized(model_path, transform_path, num_top_features=20)"
      ],
      "execution_count": null,
      "outputs": []
    },
    {
      "cell_type": "code",
      "metadata": {
        "colab": {
          "base_uri": "https://localhost:8080/",
          "height": 275
        },
        "id": "1oGEYix3dRex",
        "executionInfo": {
          "status": "ok",
          "timestamp": 1610403541225,
          "user_tz": -60,
          "elapsed": 84507,
          "user": {
            "displayName": "Žiga Avsec",
            "photoUrl": "https://lh3.googleusercontent.com/a-/AOh14GjeqpTSqpdiH6-w18IlBq5jUYLVI3qWge6m6wC5=s64",
            "userId": "06962645976249714923"
          }
        },
        "outputId": "85c13ade-4e8c-42af-ec36-984f847fe513"
      },
      "source": [
        "# Score the first 5 variants from ClinVar\n",
        "# Lower-dimensional scores (20 PCs)\n",
        "it = variant_centered_sequences(clinvar_vcf, sequence_length=SEQUENCE_LENGTH,\n",
        "                                 gzipped=True, chr_prefix='chr')\n",
        "example_list = []\n",
        "for i, example in enumerate(it):\n",
        "  if i >= 5:\n",
        "    break\n",
        "  variant_scores = enformer_score_variants.predict_on_batch(\n",
        "      {k: v[tf.newaxis] for k,v in example['inputs'].items()})[0]\n",
        "  variant_scores = {f'PC{i}': score for i, score in enumerate(variant_scores)}\n",
        "  example_list.append({**example['metadata'],\n",
        "                       **variant_scores})\n",
        "  if i % 2 == 0:\n",
        "    print(f'Done {i}')\n",
        "df = pd.DataFrame(example_list)\n",
        "df"
      ],
      "execution_count": null,
      "outputs": [
        {
          "output_type": "stream",
          "text": [
            "Done 0\n",
            "Done 2\n",
            "Done 4\n"
          ],
          "name": "stdout"
        },
        {
          "output_type": "execute_result",
          "data": {
            "text/html": [
              "<div>\n",
              "<style scoped>\n",
              "    .dataframe tbody tr th:only-of-type {\n",
              "        vertical-align: middle;\n",
              "    }\n",
              "\n",
              "    .dataframe tbody tr th {\n",
              "        vertical-align: top;\n",
              "    }\n",
              "\n",
              "    .dataframe thead th {\n",
              "        text-align: right;\n",
              "    }\n",
              "</style>\n",
              "<table border=\"1\" class=\"dataframe\">\n",
              "  <thead>\n",
              "    <tr style=\"text-align: right;\">\n",
              "      <th></th>\n",
              "      <th>chrom</th>\n",
              "      <th>pos</th>\n",
              "      <th>id</th>\n",
              "      <th>ref</th>\n",
              "      <th>alt</th>\n",
              "      <th>PC0</th>\n",
              "      <th>PC1</th>\n",
              "      <th>PC2</th>\n",
              "      <th>PC3</th>\n",
              "      <th>PC4</th>\n",
              "      <th>PC5</th>\n",
              "      <th>PC6</th>\n",
              "      <th>PC7</th>\n",
              "      <th>PC8</th>\n",
              "      <th>PC9</th>\n",
              "      <th>PC10</th>\n",
              "      <th>PC11</th>\n",
              "      <th>PC12</th>\n",
              "      <th>PC13</th>\n",
              "      <th>PC14</th>\n",
              "      <th>PC15</th>\n",
              "      <th>PC16</th>\n",
              "      <th>PC17</th>\n",
              "      <th>PC18</th>\n",
              "      <th>PC19</th>\n",
              "    </tr>\n",
              "  </thead>\n",
              "  <tbody>\n",
              "    <tr>\n",
              "      <th>0</th>\n",
              "      <td>chr1</td>\n",
              "      <td>930188</td>\n",
              "      <td>846933</td>\n",
              "      <td>G</td>\n",
              "      <td>A</td>\n",
              "      <td>-61.471287</td>\n",
              "      <td>-5.655146</td>\n",
              "      <td>-2.758397</td>\n",
              "      <td>6.290497</td>\n",
              "      <td>1.846261</td>\n",
              "      <td>3.449631</td>\n",
              "      <td>6.052878</td>\n",
              "      <td>0.634326</td>\n",
              "      <td>2.584449</td>\n",
              "      <td>1.118316</td>\n",
              "      <td>1.944067</td>\n",
              "      <td>-6.512556</td>\n",
              "      <td>-4.948595</td>\n",
              "      <td>-1.168765</td>\n",
              "      <td>-2.903484</td>\n",
              "      <td>0.484869</td>\n",
              "      <td>2.897006</td>\n",
              "      <td>1.758686</td>\n",
              "      <td>3.685951</td>\n",
              "      <td>-6.672137</td>\n",
              "    </tr>\n",
              "    <tr>\n",
              "      <th>1</th>\n",
              "      <td>chr1</td>\n",
              "      <td>930203</td>\n",
              "      <td>972363</td>\n",
              "      <td>C</td>\n",
              "      <td>T</td>\n",
              "      <td>21.482735</td>\n",
              "      <td>-9.249768</td>\n",
              "      <td>3.685621</td>\n",
              "      <td>9.606244</td>\n",
              "      <td>0.538989</td>\n",
              "      <td>5.262571</td>\n",
              "      <td>1.418416</td>\n",
              "      <td>-14.005647</td>\n",
              "      <td>12.897153</td>\n",
              "      <td>9.390783</td>\n",
              "      <td>-5.201140</td>\n",
              "      <td>-3.090504</td>\n",
              "      <td>1.975024</td>\n",
              "      <td>-5.241168</td>\n",
              "      <td>-14.366508</td>\n",
              "      <td>-7.802508</td>\n",
              "      <td>0.141153</td>\n",
              "      <td>12.087668</td>\n",
              "      <td>-5.559410</td>\n",
              "      <td>9.170748</td>\n",
              "    </tr>\n",
              "    <tr>\n",
              "      <th>2</th>\n",
              "      <td>chr1</td>\n",
              "      <td>930248</td>\n",
              "      <td>789256</td>\n",
              "      <td>G</td>\n",
              "      <td>A</td>\n",
              "      <td>0.498874</td>\n",
              "      <td>1.982327</td>\n",
              "      <td>-2.750614</td>\n",
              "      <td>-3.141907</td>\n",
              "      <td>-5.241604</td>\n",
              "      <td>-4.961285</td>\n",
              "      <td>-1.702641</td>\n",
              "      <td>2.543528</td>\n",
              "      <td>-2.248600</td>\n",
              "      <td>-0.774210</td>\n",
              "      <td>-0.368460</td>\n",
              "      <td>-1.392373</td>\n",
              "      <td>-6.709529</td>\n",
              "      <td>0.173268</td>\n",
              "      <td>6.361717</td>\n",
              "      <td>3.989930</td>\n",
              "      <td>1.602195</td>\n",
              "      <td>-5.265455</td>\n",
              "      <td>0.852734</td>\n",
              "      <td>-0.946416</td>\n",
              "    </tr>\n",
              "    <tr>\n",
              "      <th>3</th>\n",
              "      <td>chr1</td>\n",
              "      <td>930275</td>\n",
              "      <td>969662</td>\n",
              "      <td>T</td>\n",
              "      <td>G</td>\n",
              "      <td>-3.028966</td>\n",
              "      <td>2.984429</td>\n",
              "      <td>7.532916</td>\n",
              "      <td>6.588795</td>\n",
              "      <td>19.307785</td>\n",
              "      <td>5.661951</td>\n",
              "      <td>0.962246</td>\n",
              "      <td>5.863384</td>\n",
              "      <td>-6.041630</td>\n",
              "      <td>2.309155</td>\n",
              "      <td>9.062576</td>\n",
              "      <td>1.426052</td>\n",
              "      <td>-3.792181</td>\n",
              "      <td>3.136441</td>\n",
              "      <td>-2.617620</td>\n",
              "      <td>0.942220</td>\n",
              "      <td>-6.195234</td>\n",
              "      <td>-6.291888</td>\n",
              "      <td>-5.329431</td>\n",
              "      <td>-1.141422</td>\n",
              "    </tr>\n",
              "    <tr>\n",
              "      <th>4</th>\n",
              "      <td>chr1</td>\n",
              "      <td>930336</td>\n",
              "      <td>843786</td>\n",
              "      <td>G</td>\n",
              "      <td>A</td>\n",
              "      <td>-45.674007</td>\n",
              "      <td>-6.556405</td>\n",
              "      <td>-0.550849</td>\n",
              "      <td>16.986986</td>\n",
              "      <td>-5.257315</td>\n",
              "      <td>5.071064</td>\n",
              "      <td>6.669114</td>\n",
              "      <td>-1.328647</td>\n",
              "      <td>-9.566864</td>\n",
              "      <td>11.220359</td>\n",
              "      <td>3.839488</td>\n",
              "      <td>-8.214136</td>\n",
              "      <td>-4.864720</td>\n",
              "      <td>-2.947721</td>\n",
              "      <td>-13.659990</td>\n",
              "      <td>1.405919</td>\n",
              "      <td>-3.936957</td>\n",
              "      <td>10.316927</td>\n",
              "      <td>1.663230</td>\n",
              "      <td>-5.247654</td>\n",
              "    </tr>\n",
              "  </tbody>\n",
              "</table>\n",
              "</div>"
            ],
            "text/plain": [
              "  chrom     pos      id ref  ...      PC16       PC17      PC18      PC19\n",
              "0  chr1  930188  846933   G  ...  2.897006   1.758686  3.685951 -6.672137\n",
              "1  chr1  930203  972363   C  ...  0.141153  12.087668 -5.559410  9.170748\n",
              "2  chr1  930248  789256   G  ...  1.602195  -5.265455  0.852734 -0.946416\n",
              "3  chr1  930275  969662   T  ... -6.195234  -6.291888 -5.329431 -1.141422\n",
              "4  chr1  930336  843786   G  ... -3.936957  10.316927  1.663230 -5.247654\n",
              "\n",
              "[5 rows x 25 columns]"
            ]
          },
          "metadata": {
            "tags": []
          },
          "execution_count": 34
        }
      ]
    },
    {
      "cell_type": "markdown",
      "metadata": {
        "id": "_G5cANX34SLw"
      },
      "source": [
        "### Report all 5,313 features (z-score normalized)"
      ]
    },
    {
      "cell_type": "code",
      "metadata": {
        "id": "get8hogCySnt"
      },
      "source": [
        "enformer_score_variants_all = EnformerScoreVariantsNormalized(model_path, transform_path)"
      ],
      "execution_count": null,
      "outputs": []
    },
    {
      "cell_type": "code",
      "metadata": {
        "colab": {
          "base_uri": "https://localhost:8080/",
          "height": 338
        },
        "id": "Q48earqRyFa6",
        "executionInfo": {
          "status": "ok",
          "timestamp": 1610491940923,
          "user_tz": -60,
          "elapsed": 22163,
          "user": {
            "displayName": "Žiga Avsec",
            "photoUrl": "https://lh3.googleusercontent.com/a-/AOh14GjeqpTSqpdiH6-w18IlBq5jUYLVI3qWge6m6wC5=s64",
            "userId": "06962645976249714923"
          }
        },
        "outputId": "dd7629d6-fdcb-4057-d72a-5c75cdc9b3b6"
      },
      "source": [
        "# Score the first 5 variants from ClinVar\n",
        "# All Scores\n",
        "it = variant_centered_sequences(clinvar_vcf, sequence_length=SEQUENCE_LENGTH,\n",
        "                                 gzipped=True, chr_prefix='chr')\n",
        "example_list = []\n",
        "for i, example in enumerate(it):\n",
        "  if i >= 5:\n",
        "    break\n",
        "  variant_scores = enformer_score_variants_all.predict_on_batch(\n",
        "      {k: v[tf.newaxis] for k,v in example['inputs'].items()})[0]\n",
        "  variant_scores = {name[:20]: score for name, score in zip(df_targets.description, variant_scores)}\n",
        "  example_list.append({**example['metadata'],\n",
        "                       **variant_scores})\n",
        "  if i % 2 == 0:\n",
        "    print(f'Done {i}')\n",
        "df = pd.DataFrame(example_list)\n",
        "df"
      ],
      "execution_count": null,
      "outputs": [
        {
          "output_type": "stream",
          "text": [
            "Done 0\n",
            "Done 2\n",
            "Done 4\n"
          ],
          "name": "stdout"
        },
        {
          "output_type": "execute_result",
          "data": {
            "text/html": [
              "<div>\n",
              "<style scoped>\n",
              "    .dataframe tbody tr th:only-of-type {\n",
              "        vertical-align: middle;\n",
              "    }\n",
              "\n",
              "    .dataframe tbody tr th {\n",
              "        vertical-align: top;\n",
              "    }\n",
              "\n",
              "    .dataframe thead th {\n",
              "        text-align: right;\n",
              "    }\n",
              "</style>\n",
              "<table border=\"1\" class=\"dataframe\">\n",
              "  <thead>\n",
              "    <tr style=\"text-align: right;\">\n",
              "      <th></th>\n",
              "      <th>chrom</th>\n",
              "      <th>pos</th>\n",
              "      <th>id</th>\n",
              "      <th>ref</th>\n",
              "      <th>alt</th>\n",
              "      <th>DNASE:cerebellum mal</th>\n",
              "      <th>DNASE:frontal cortex</th>\n",
              "      <th>DNASE:chorion</th>\n",
              "      <th>DNASE:Ishikawa treat</th>\n",
              "      <th>DNASE:GM03348</th>\n",
              "      <th>DNASE:GM03348 geneti</th>\n",
              "      <th>DNASE:AG08395</th>\n",
              "      <th>DNASE:AG08396</th>\n",
              "      <th>DNASE:AG20443</th>\n",
              "      <th>DNASE:H54</th>\n",
              "      <th>DNASE:GM10248</th>\n",
              "      <th>DNASE:GM12878</th>\n",
              "      <th>DNASE:GM12891</th>\n",
              "      <th>DNASE:GM12892</th>\n",
              "      <th>DNASE:GM18507</th>\n",
              "      <th>DNASE:GM19238</th>\n",
              "      <th>DNASE:GM19239</th>\n",
              "      <th>DNASE:GM19240</th>\n",
              "      <th>DNASE:H1-hESC</th>\n",
              "      <th>DNASE:H7-hESC</th>\n",
              "      <th>DNASE:H9</th>\n",
              "      <th>DNASE:heart male adu</th>\n",
              "      <th>DNASE:HEK293T</th>\n",
              "      <th>DNASE:HeLa-S3 treate</th>\n",
              "      <th>DNASE:HeLa-S3</th>\n",
              "      <th>DNASE:hepatocyte</th>\n",
              "      <th>DNASE:HepG2</th>\n",
              "      <th>DNASE:HTR-8/SVneo</th>\n",
              "      <th>DNASE:endothelial ce</th>\n",
              "      <th>DNASE:CWRU1 male</th>\n",
              "      <th>DNASE:iPS-NIHi11 mal</th>\n",
              "      <th>DNASE:iPS-NIHi7 fema</th>\n",
              "      <th>DNASE:K562 treated w</th>\n",
              "      <th>DNASE:K562 G2 phase</th>\n",
              "      <th>DNASE:K562 G1 phase</th>\n",
              "      <th>...</th>\n",
              "      <th>CAGE:CD14+CD16- Mono</th>\n",
              "      <th>CAGE:achilles tendon</th>\n",
              "      <th>CAGE:cerebrospinal f</th>\n",
              "      <th>CAGE:cruciate ligame</th>\n",
              "      <th>CAGE:eye - vitreous</th>\n",
              "      <th>CAGE:eye - muscle su</th>\n",
              "      <th>CAGE:eye - muscle la</th>\n",
              "      <th>CAGE:eye - muscle me</th>\n",
              "      <th>CAGE:eye - muscle in</th>\n",
              "      <th>CAGE:Fingernail (inc</th>\n",
              "      <th>CAGE:optic nerve,</th>\n",
              "      <th>CAGE:Skin - palm,</th>\n",
              "      <th>CAGE:tongue epidermi</th>\n",
              "      <th>CAGE:Urethra,</th>\n",
              "      <th>CAGE:CD14+ monocytes</th>\n",
              "      <th>CAGE:Hep-2 cells tre</th>\n",
              "      <th>CAGE:Hep-2 cells moc</th>\n",
              "      <th>CAGE:immature langer</th>\n",
              "      <th>CAGE:migratory lange</th>\n",
              "      <th>CAGE:CD34 cells diff</th>\n",
              "      <th>CAGE:amygdala - adul</th>\n",
              "      <th>CAGE:thalamus - adul</th>\n",
              "      <th>CAGE:hippocampus - a</th>\n",
              "      <th>CAGE:parietal lobe -</th>\n",
              "      <th>CAGE:cerebellum - ad</th>\n",
              "      <th>CAGE:pineal gland -</th>\n",
              "      <th>CAGE:spinal cord - a</th>\n",
              "      <th>CAGE:Olfactory epith</th>\n",
              "      <th>CAGE:gamma delta pos</th>\n",
              "      <th>CAGE:Mast cell, expa</th>\n",
              "      <th>CAGE:adipose,</th>\n",
              "      <th>CAGE:cerebellum, new</th>\n",
              "      <th>CAGE:spinal cord, ne</th>\n",
              "      <th>CAGE:amygdala, newbo</th>\n",
              "      <th>CAGE:hippocampus, ne</th>\n",
              "      <th>CAGE:putamen, newbor</th>\n",
              "      <th>CAGE:thalamus, newbo</th>\n",
              "      <th>CAGE:thymic carcinom</th>\n",
              "      <th>CAGE:Smooth muscle c</th>\n",
              "      <th>CAGE:parietal cortex</th>\n",
              "    </tr>\n",
              "  </thead>\n",
              "  <tbody>\n",
              "    <tr>\n",
              "      <th>0</th>\n",
              "      <td>chr1</td>\n",
              "      <td>930188</td>\n",
              "      <td>846933</td>\n",
              "      <td>G</td>\n",
              "      <td>A</td>\n",
              "      <td>-1.786843</td>\n",
              "      <td>-15.682123</td>\n",
              "      <td>-22.520702</td>\n",
              "      <td>0.528606</td>\n",
              "      <td>-3.829948</td>\n",
              "      <td>-3.232739</td>\n",
              "      <td>-2.671064</td>\n",
              "      <td>-9.467652</td>\n",
              "      <td>-3.155200</td>\n",
              "      <td>-7.706491</td>\n",
              "      <td>-3.149441</td>\n",
              "      <td>-0.523933</td>\n",
              "      <td>-11.134032</td>\n",
              "      <td>-11.109153</td>\n",
              "      <td>-3.670341</td>\n",
              "      <td>-8.464477</td>\n",
              "      <td>-11.757355</td>\n",
              "      <td>-8.598063</td>\n",
              "      <td>-0.531494</td>\n",
              "      <td>0.225998</td>\n",
              "      <td>-0.777080</td>\n",
              "      <td>-15.741483</td>\n",
              "      <td>0.879350</td>\n",
              "      <td>-6.576440</td>\n",
              "      <td>-4.204203</td>\n",
              "      <td>-8.632437</td>\n",
              "      <td>-0.466419</td>\n",
              "      <td>-3.439260</td>\n",
              "      <td>-0.311319</td>\n",
              "      <td>-4.804222</td>\n",
              "      <td>-5.151290</td>\n",
              "      <td>-1.418189</td>\n",
              "      <td>0.366935</td>\n",
              "      <td>-2.001119</td>\n",
              "      <td>-2.294838</td>\n",
              "      <td>...</td>\n",
              "      <td>-33.057209</td>\n",
              "      <td>-2.997374</td>\n",
              "      <td>-8.419192</td>\n",
              "      <td>-5.191596</td>\n",
              "      <td>-4.536147</td>\n",
              "      <td>-5.455176</td>\n",
              "      <td>-3.037405</td>\n",
              "      <td>-7.164758</td>\n",
              "      <td>-2.292249</td>\n",
              "      <td>-8.986766</td>\n",
              "      <td>-4.790454</td>\n",
              "      <td>-4.795162</td>\n",
              "      <td>-1.450022</td>\n",
              "      <td>-1.989321</td>\n",
              "      <td>-22.918665</td>\n",
              "      <td>-35.752350</td>\n",
              "      <td>-35.278088</td>\n",
              "      <td>-13.375848</td>\n",
              "      <td>-28.361494</td>\n",
              "      <td>-31.598894</td>\n",
              "      <td>-11.373973</td>\n",
              "      <td>-9.255016</td>\n",
              "      <td>-9.010527</td>\n",
              "      <td>-9.231528</td>\n",
              "      <td>-3.780572</td>\n",
              "      <td>-0.282759</td>\n",
              "      <td>-12.095373</td>\n",
              "      <td>-59.163910</td>\n",
              "      <td>-66.295670</td>\n",
              "      <td>-34.482758</td>\n",
              "      <td>-21.271309</td>\n",
              "      <td>-4.326236</td>\n",
              "      <td>-16.074772</td>\n",
              "      <td>-6.284147</td>\n",
              "      <td>-10.391891</td>\n",
              "      <td>-6.422609</td>\n",
              "      <td>-9.180881</td>\n",
              "      <td>-14.222376</td>\n",
              "      <td>-46.489288</td>\n",
              "      <td>-11.498157</td>\n",
              "    </tr>\n",
              "    <tr>\n",
              "      <th>1</th>\n",
              "      <td>chr1</td>\n",
              "      <td>930203</td>\n",
              "      <td>972363</td>\n",
              "      <td>C</td>\n",
              "      <td>T</td>\n",
              "      <td>3.888234</td>\n",
              "      <td>-0.792556</td>\n",
              "      <td>-1.675466</td>\n",
              "      <td>4.746172</td>\n",
              "      <td>1.695362</td>\n",
              "      <td>2.216201</td>\n",
              "      <td>-0.281044</td>\n",
              "      <td>-1.136617</td>\n",
              "      <td>0.372290</td>\n",
              "      <td>-3.771606</td>\n",
              "      <td>3.466754</td>\n",
              "      <td>1.097348</td>\n",
              "      <td>2.531235</td>\n",
              "      <td>5.103032</td>\n",
              "      <td>1.873044</td>\n",
              "      <td>3.959806</td>\n",
              "      <td>1.216984</td>\n",
              "      <td>3.810981</td>\n",
              "      <td>0.649070</td>\n",
              "      <td>2.553843</td>\n",
              "      <td>0.989534</td>\n",
              "      <td>1.633624</td>\n",
              "      <td>5.512297</td>\n",
              "      <td>-6.207155</td>\n",
              "      <td>-13.487192</td>\n",
              "      <td>6.362380</td>\n",
              "      <td>0.166047</td>\n",
              "      <td>-4.554312</td>\n",
              "      <td>-0.160736</td>\n",
              "      <td>-1.996482</td>\n",
              "      <td>-2.641517</td>\n",
              "      <td>0.414536</td>\n",
              "      <td>7.214015</td>\n",
              "      <td>4.067241</td>\n",
              "      <td>2.957357</td>\n",
              "      <td>...</td>\n",
              "      <td>33.842506</td>\n",
              "      <td>-0.583508</td>\n",
              "      <td>0.268065</td>\n",
              "      <td>-3.203938</td>\n",
              "      <td>5.382962</td>\n",
              "      <td>1.292423</td>\n",
              "      <td>0.993049</td>\n",
              "      <td>2.095632</td>\n",
              "      <td>-0.293384</td>\n",
              "      <td>4.008999</td>\n",
              "      <td>-0.025227</td>\n",
              "      <td>-0.550521</td>\n",
              "      <td>-1.000858</td>\n",
              "      <td>0.568729</td>\n",
              "      <td>27.443323</td>\n",
              "      <td>-22.869347</td>\n",
              "      <td>-32.034206</td>\n",
              "      <td>12.032639</td>\n",
              "      <td>15.752299</td>\n",
              "      <td>19.407349</td>\n",
              "      <td>2.799562</td>\n",
              "      <td>3.406885</td>\n",
              "      <td>1.643052</td>\n",
              "      <td>2.385034</td>\n",
              "      <td>-1.272377</td>\n",
              "      <td>35.168621</td>\n",
              "      <td>-0.531365</td>\n",
              "      <td>-15.452000</td>\n",
              "      <td>42.711445</td>\n",
              "      <td>22.988682</td>\n",
              "      <td>-2.011288</td>\n",
              "      <td>1.716742</td>\n",
              "      <td>1.979876</td>\n",
              "      <td>5.205636</td>\n",
              "      <td>6.388551</td>\n",
              "      <td>3.159813</td>\n",
              "      <td>0.636698</td>\n",
              "      <td>-0.784998</td>\n",
              "      <td>-4.407548</td>\n",
              "      <td>3.055573</td>\n",
              "    </tr>\n",
              "    <tr>\n",
              "      <th>2</th>\n",
              "      <td>chr1</td>\n",
              "      <td>930248</td>\n",
              "      <td>789256</td>\n",
              "      <td>G</td>\n",
              "      <td>A</td>\n",
              "      <td>-3.392124</td>\n",
              "      <td>-6.586333</td>\n",
              "      <td>-6.679351</td>\n",
              "      <td>-0.481332</td>\n",
              "      <td>0.732646</td>\n",
              "      <td>1.129496</td>\n",
              "      <td>1.167766</td>\n",
              "      <td>-1.667323</td>\n",
              "      <td>0.800817</td>\n",
              "      <td>-4.803396</td>\n",
              "      <td>-0.813693</td>\n",
              "      <td>0.774903</td>\n",
              "      <td>-2.916472</td>\n",
              "      <td>-3.757783</td>\n",
              "      <td>0.205903</td>\n",
              "      <td>-2.631254</td>\n",
              "      <td>-2.177644</td>\n",
              "      <td>-5.314756</td>\n",
              "      <td>-1.064787</td>\n",
              "      <td>-4.775336</td>\n",
              "      <td>-0.307169</td>\n",
              "      <td>-9.369971</td>\n",
              "      <td>-4.574942</td>\n",
              "      <td>-1.763874</td>\n",
              "      <td>4.670806</td>\n",
              "      <td>-9.955566</td>\n",
              "      <td>2.540043</td>\n",
              "      <td>-0.725449</td>\n",
              "      <td>-0.909228</td>\n",
              "      <td>-2.151628</td>\n",
              "      <td>-1.621970</td>\n",
              "      <td>0.037685</td>\n",
              "      <td>-6.617916</td>\n",
              "      <td>-4.519673</td>\n",
              "      <td>-3.751483</td>\n",
              "      <td>...</td>\n",
              "      <td>-3.718003</td>\n",
              "      <td>-0.702731</td>\n",
              "      <td>3.008476</td>\n",
              "      <td>0.761387</td>\n",
              "      <td>-3.265729</td>\n",
              "      <td>1.070971</td>\n",
              "      <td>-0.497848</td>\n",
              "      <td>0.965013</td>\n",
              "      <td>0.367486</td>\n",
              "      <td>-1.758073</td>\n",
              "      <td>0.375682</td>\n",
              "      <td>-0.949173</td>\n",
              "      <td>-1.022737</td>\n",
              "      <td>0.486035</td>\n",
              "      <td>-0.185559</td>\n",
              "      <td>56.499584</td>\n",
              "      <td>67.082275</td>\n",
              "      <td>1.473261</td>\n",
              "      <td>-0.636782</td>\n",
              "      <td>-0.981452</td>\n",
              "      <td>-0.348060</td>\n",
              "      <td>0.946137</td>\n",
              "      <td>0.874985</td>\n",
              "      <td>0.469065</td>\n",
              "      <td>-3.461762</td>\n",
              "      <td>-21.804483</td>\n",
              "      <td>1.403917</td>\n",
              "      <td>-1.323191</td>\n",
              "      <td>0.396306</td>\n",
              "      <td>-5.381416</td>\n",
              "      <td>4.841636</td>\n",
              "      <td>0.019535</td>\n",
              "      <td>2.721695</td>\n",
              "      <td>-1.743816</td>\n",
              "      <td>-1.392196</td>\n",
              "      <td>1.243525</td>\n",
              "      <td>-1.840826</td>\n",
              "      <td>-0.622136</td>\n",
              "      <td>6.409196</td>\n",
              "      <td>-0.923778</td>\n",
              "    </tr>\n",
              "    <tr>\n",
              "      <th>3</th>\n",
              "      <td>chr1</td>\n",
              "      <td>930275</td>\n",
              "      <td>969662</td>\n",
              "      <td>T</td>\n",
              "      <td>G</td>\n",
              "      <td>3.287432</td>\n",
              "      <td>-1.920073</td>\n",
              "      <td>5.813212</td>\n",
              "      <td>2.442116</td>\n",
              "      <td>3.727493</td>\n",
              "      <td>3.496869</td>\n",
              "      <td>0.895325</td>\n",
              "      <td>2.030542</td>\n",
              "      <td>4.058121</td>\n",
              "      <td>-1.889122</td>\n",
              "      <td>1.946017</td>\n",
              "      <td>-1.543661</td>\n",
              "      <td>9.562781</td>\n",
              "      <td>8.657282</td>\n",
              "      <td>1.719417</td>\n",
              "      <td>1.913109</td>\n",
              "      <td>7.135823</td>\n",
              "      <td>3.970765</td>\n",
              "      <td>0.610678</td>\n",
              "      <td>3.715666</td>\n",
              "      <td>0.340136</td>\n",
              "      <td>-12.232494</td>\n",
              "      <td>5.522506</td>\n",
              "      <td>7.254625</td>\n",
              "      <td>7.424074</td>\n",
              "      <td>-1.945692</td>\n",
              "      <td>1.009203</td>\n",
              "      <td>-0.339282</td>\n",
              "      <td>-0.795034</td>\n",
              "      <td>4.926074</td>\n",
              "      <td>9.191165</td>\n",
              "      <td>2.844069</td>\n",
              "      <td>5.490332</td>\n",
              "      <td>7.751811</td>\n",
              "      <td>6.818331</td>\n",
              "      <td>...</td>\n",
              "      <td>-2.347892</td>\n",
              "      <td>-3.573529</td>\n",
              "      <td>-6.638988</td>\n",
              "      <td>-5.852189</td>\n",
              "      <td>8.638922</td>\n",
              "      <td>-3.788154</td>\n",
              "      <td>-4.986428</td>\n",
              "      <td>-6.144402</td>\n",
              "      <td>-2.663138</td>\n",
              "      <td>-0.227634</td>\n",
              "      <td>0.630000</td>\n",
              "      <td>-1.148500</td>\n",
              "      <td>-0.321750</td>\n",
              "      <td>-0.875137</td>\n",
              "      <td>-10.835594</td>\n",
              "      <td>1.012006</td>\n",
              "      <td>0.616927</td>\n",
              "      <td>-0.123525</td>\n",
              "      <td>0.815517</td>\n",
              "      <td>1.417692</td>\n",
              "      <td>1.730117</td>\n",
              "      <td>2.003574</td>\n",
              "      <td>2.723122</td>\n",
              "      <td>1.179165</td>\n",
              "      <td>2.852669</td>\n",
              "      <td>39.458965</td>\n",
              "      <td>5.736304</td>\n",
              "      <td>-20.788565</td>\n",
              "      <td>-5.314080</td>\n",
              "      <td>0.397473</td>\n",
              "      <td>1.973049</td>\n",
              "      <td>4.607931</td>\n",
              "      <td>7.300556</td>\n",
              "      <td>9.865562</td>\n",
              "      <td>3.085788</td>\n",
              "      <td>1.254327</td>\n",
              "      <td>1.854584</td>\n",
              "      <td>2.621457</td>\n",
              "      <td>-24.944792</td>\n",
              "      <td>1.078750</td>\n",
              "    </tr>\n",
              "    <tr>\n",
              "      <th>4</th>\n",
              "      <td>chr1</td>\n",
              "      <td>930336</td>\n",
              "      <td>843786</td>\n",
              "      <td>G</td>\n",
              "      <td>A</td>\n",
              "      <td>13.966989</td>\n",
              "      <td>-14.674191</td>\n",
              "      <td>-17.506096</td>\n",
              "      <td>10.756916</td>\n",
              "      <td>-1.225523</td>\n",
              "      <td>2.911127</td>\n",
              "      <td>0.152567</td>\n",
              "      <td>-3.519540</td>\n",
              "      <td>0.049325</td>\n",
              "      <td>-11.031021</td>\n",
              "      <td>1.868334</td>\n",
              "      <td>1.091527</td>\n",
              "      <td>-2.538539</td>\n",
              "      <td>0.955972</td>\n",
              "      <td>1.841750</td>\n",
              "      <td>-4.661942</td>\n",
              "      <td>-13.774675</td>\n",
              "      <td>-9.152153</td>\n",
              "      <td>-0.745051</td>\n",
              "      <td>6.185897</td>\n",
              "      <td>1.756672</td>\n",
              "      <td>-18.894367</td>\n",
              "      <td>5.834339</td>\n",
              "      <td>-8.249739</td>\n",
              "      <td>-11.984449</td>\n",
              "      <td>-11.462355</td>\n",
              "      <td>1.577443</td>\n",
              "      <td>-6.717025</td>\n",
              "      <td>0.324789</td>\n",
              "      <td>-4.330544</td>\n",
              "      <td>-2.505473</td>\n",
              "      <td>0.463757</td>\n",
              "      <td>7.450192</td>\n",
              "      <td>7.164897</td>\n",
              "      <td>4.730538</td>\n",
              "      <td>...</td>\n",
              "      <td>-19.131910</td>\n",
              "      <td>-4.917017</td>\n",
              "      <td>-8.311162</td>\n",
              "      <td>-5.551866</td>\n",
              "      <td>7.141852</td>\n",
              "      <td>-4.919424</td>\n",
              "      <td>-3.647799</td>\n",
              "      <td>-6.864504</td>\n",
              "      <td>-2.496408</td>\n",
              "      <td>-9.047115</td>\n",
              "      <td>-3.398409</td>\n",
              "      <td>-6.225352</td>\n",
              "      <td>-2.351780</td>\n",
              "      <td>-2.361993</td>\n",
              "      <td>-17.526522</td>\n",
              "      <td>-46.520599</td>\n",
              "      <td>-57.027424</td>\n",
              "      <td>-8.135074</td>\n",
              "      <td>-25.883907</td>\n",
              "      <td>-6.518816</td>\n",
              "      <td>-1.284766</td>\n",
              "      <td>-2.227928</td>\n",
              "      <td>-1.223655</td>\n",
              "      <td>-1.058415</td>\n",
              "      <td>3.015599</td>\n",
              "      <td>69.669312</td>\n",
              "      <td>-6.541300</td>\n",
              "      <td>-73.421532</td>\n",
              "      <td>-36.244965</td>\n",
              "      <td>-20.472229</td>\n",
              "      <td>-8.516649</td>\n",
              "      <td>8.461418</td>\n",
              "      <td>-3.483475</td>\n",
              "      <td>14.235535</td>\n",
              "      <td>6.582296</td>\n",
              "      <td>4.010679</td>\n",
              "      <td>1.865496</td>\n",
              "      <td>-6.477487</td>\n",
              "      <td>-42.006096</td>\n",
              "      <td>-0.880794</td>\n",
              "    </tr>\n",
              "  </tbody>\n",
              "</table>\n",
              "<p>5 rows × 3378 columns</p>\n",
              "</div>"
            ],
            "text/plain": [
              "  chrom     pos  ... CAGE:Smooth muscle c CAGE:parietal cortex\n",
              "0  chr1  930188  ...           -46.489288           -11.498157\n",
              "1  chr1  930203  ...            -4.407548             3.055573\n",
              "2  chr1  930248  ...             6.409196            -0.923778\n",
              "3  chr1  930275  ...           -24.944792             1.078750\n",
              "4  chr1  930336  ...           -42.006096            -0.880794\n",
              "\n",
              "[5 rows x 3378 columns]"
            ]
          },
          "metadata": {
            "tags": []
          },
          "execution_count": 21
        }
      ]
    }
  ]
}
